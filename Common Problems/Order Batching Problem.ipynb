{
 "cells": [
  {
   "cell_type": "markdown",
   "metadata": {},
   "source": [
    "# Memetic Algorithm for Order Batching Problem"
   ]
  },
  {
   "cell_type": "code",
   "execution_count": 484,
   "metadata": {},
   "outputs": [],
   "source": [
    "import random\n",
    "import matplotlib.pyplot as plt"
   ]
  },
  {
   "cell_type": "markdown",
   "metadata": {},
   "source": [
    "1. Generate orders, Individuals, Decode individual to batches"
   ]
  },
  {
   "cell_type": "code",
   "execution_count": 485,
   "metadata": {},
   "outputs": [],
   "source": [
    "# variable orders is a list,  has object_num amount of objects\n",
    "# Each object is represented by a tuple (id, weight, and aisle number), weight is between [1,5]\n",
    "# Each aisle has 20 objects\n",
    "def generate_orders(object_num, order_num):\n",
    "    id = list(range(1,object_num+1))\n",
    "    weights = random.choices(list(range(1, 6)), k = object_num) # weight of each order\n",
    "    aisles = [(i-1)//20 +1 for i in id] # aisle number of each order\n",
    "    objects = list(zip(id, weights, aisles))\n",
    "    # Generate batch_num amount of batches\n",
    "    orders = []\n",
    "    k = random.choices(list(range(5,11)), k=10) # number of orders in a batch\n",
    "    selected = random.sample(objects, 100) # randomly select 100 orders\n",
    "    for i in range(order_num):\n",
    "        order = selected[sum(k[:i]):sum(k[:i+1])]\n",
    "        orders.append(order)\n",
    "    return orders\n",
    "\n",
    "# Swarm is a list, has k individuals\n",
    "def generate_swarm(order_num,k):\n",
    "    order_id = list(range(order_num))\n",
    "    swarm = []\n",
    "    for i in range(k):\n",
    "        random.seed()\n",
    "        random.shuffle(order_id)\n",
    "        individual = order_id.copy()\n",
    "        swarm.append(individual)\n",
    "    return swarm\n",
    "\n",
    "# batches is a list\n",
    "def decode(individual,orders,capacity):\n",
    "    load = 0\n",
    "    batches = []\n",
    "    # Generate batches\n",
    "    batch = []\n",
    "    for i in range(len(individual)):\n",
    "        order = orders[individual[i]]\n",
    "        load_i = sum([j[1] for j in order])\n",
    "        if load + load_i < capacity:\n",
    "            load += load_i\n",
    "            batch.append(order)\n",
    "        else:\n",
    "            batches.append(batch)\n",
    "            batch = []\n",
    "            batch.append(order)\n",
    "            load = load_i\n",
    "    batches.append(batch)\n",
    "    # Flatten and Sort orders in each batch by object number\n",
    "    for k in range(len(batches)):\n",
    "        batches[k] = sorted([i for order in batches[k] for i in order], key = lambda x: x[0])\n",
    "    return batches"
   ]
  },
  {
   "cell_type": "markdown",
   "metadata": {},
   "source": [
    "2. Distance and fitness Function for individuals"
   ]
  },
  {
   "cell_type": "code",
   "execution_count": 486,
   "metadata": {},
   "outputs": [],
   "source": [
    "# Distance between two objects is 1 unit\n",
    "# Distance between two aisles is 4 units\n",
    "def distance(individual,orders,capacity):\n",
    "    batches = decode(individual,orders,capacity)\n",
    "    # Calculate paased aisles for each batch\n",
    "    aisles = []\n",
    "    for batch in batches:\n",
    "        aisle = list(set([x[2] for x in batch]))\n",
    "        aisles.append(aisle)\n",
    "    # Calculate distance\n",
    "    horizental_distance, vertical_distance = 0, 0\n",
    "    for i,aisle in enumerate(aisles):\n",
    "        horizental_distance += aisle[-1] * 4 + 4/2\n",
    "        if len(aisle) % 2 == 0: # if this batch cross even number of aisles\n",
    "            vertical_distance += (1 + 10 + 1) * len(aisle)\n",
    "        else:\n",
    "            vertical_distance += (1 + 10 + 1) * (len(aisle) - 1)\n",
    "            last_aisle = (batches[i][-1][0] - (aisle[-1]-1)*20) % 10\n",
    "            last_aisle = 10 if last_aisle == 0 else last_aisle\n",
    "            vertical_distance += last_aisle * 2 # the travel distance in the last aisle\n",
    "    distance = horizental_distance + vertical_distance\n",
    "    return distance\n",
    "\n",
    "def fitness(individual,orders,capacity):\n",
    "    dist = distance(individual,orders,capacity)\n",
    "    individual_num = len(individual)\n",
    "    cost = dist + individual_num * 100\n",
    "    return 1/cost"
   ]
  },
  {
   "cell_type": "markdown",
   "metadata": {},
   "source": [
    "3. Perturbation functions: Crossover, Mutation ,Local Search"
   ]
  },
  {
   "cell_type": "code",
   "execution_count": 487,
   "metadata": {},
   "outputs": [],
   "source": [
    "# Partially mapped crossover\n",
    "def PMX(parents):\n",
    "    I1,I2 = parents[0],parents[1]\n",
    "    i, j = sorted(random.sample(range(len(I1)-1), 2))\n",
    "    offspring = I2.copy()\n",
    "    offspring[i:j+1] = I1.copy()[i:j+1]\n",
    "    for k in range(i,j+1):\n",
    "        if I2[k] not in offspring:\n",
    "            idx = I2.index(I1[k])\n",
    "            while i<=idx<=j:\n",
    "                idx = I2.index(I1[idx])\n",
    "            offspring[idx] = I2[k]\n",
    "    return offspring\n",
    "\n",
    "def tournament_selection(population,orders,capacity,tournament_size,k):\n",
    "    winner = []\n",
    "    for i in range(k):\n",
    "        participent = random.sample(population,tournament_size)\n",
    "        selected = max(participent, key = lambda x: fitness(x,orders,capacity))\n",
    "        winner.append(selected)\n",
    "    return winner\n",
    "\n",
    "def mutation(individual):\n",
    "    i, j = sorted(random.sample(range(len(individual)-1), 2))\n",
    "    individual[i], individual[j] = individual[j], individual[i]\n",
    "    return individual\n",
    "\n",
    "def local_search(individual,orders,capacity):\n",
    "    n = len(individual)\n",
    "    dist = distance(individual,orders,capacity)\n",
    "    #remove one order from the individual\n",
    "    cost = []\n",
    "    for i in range(n):\n",
    "        I = individual.copy()\n",
    "        I.remove(individual[i])\n",
    "        new_dist = distance(I,orders,capacity)\n",
    "        delta_dist = dist - new_dist\n",
    "        cost.append(delta_dist)\n",
    "    x,y = sorted(range(n), key = lambda x: cost[x])[0], sorted(range(n), key = lambda x: cost[x])[1]\n",
    "    # repair the individual\n",
    "    I = individual.copy()\n",
    "    I.remove(individual[x])\n",
    "    I.remove(individual[y])\n",
    "    #insert x\n",
    "    cost = []\n",
    "    destructed_distace = distance(I,orders,capacity)\n",
    "    for i in range(len(I)):\n",
    "        new_I = I.copy()\n",
    "        new_I.insert(i,individual[x])\n",
    "        new_dist = distance(new_I,orders,capacity)\n",
    "        delta_dist = new_dist - destructed_distace\n",
    "        cost.append(delta_dist)\n",
    "    z = sorted(range(len(I)), key = lambda x: cost[x])[0]\n",
    "    I.insert(z,individual[x])\n",
    "    #insert y\n",
    "    cost = []\n",
    "    destructed_distace = distance(I,orders,capacity)\n",
    "    for i in range(len(I)):\n",
    "        new_I = I.copy()\n",
    "        new_I.insert(i,individual[y])\n",
    "        new_dist = distance(new_I,orders,capacity)\n",
    "        delta_dist = new_dist - destructed_distace\n",
    "        cost.append(delta_dist)\n",
    "    z = sorted(range(len(I)), key = lambda x: cost[x])[0]\n",
    "    I.insert(z,individual[y])\n",
    "    return I\n",
    "\n",
    "def batch_plan(orders,best_ind,capacity,batches):\n",
    "    #Print batch Plan\n",
    "    for i,order in enumerate(orders):\n",
    "        l = [x[0] for x in order]\n",
    "        print('order {}:'.format(i),l)\n",
    "    batches = decode(best_ind,orders,capacity)\n",
    "    order_num = []\n",
    "    for i,batch in enumerate(batches):\n",
    "        l = []\n",
    "        for j in range(len(orders)):\n",
    "            if orders[j][0] in batch:\n",
    "                l.append('order {}'.format(j))\n",
    "        order_num.append(l)\n",
    "    for i in range(len(order_num)):\n",
    "        print('batch {}:'.format(i),order_num[i])\n"
   ]
  },
  {
   "cell_type": "markdown",
   "metadata": {},
   "source": [
    "4. Main Function"
   ]
  },
  {
   "cell_type": "code",
   "execution_count": 488,
   "metadata": {},
   "outputs": [
    {
     "name": "stdout",
     "output_type": "stream",
     "text": [
      "order 0: [362, 178, 20, 206, 87]\n",
      "order 1: [325, 166, 189, 245, 96, 79, 32, 358]\n",
      "order 2: [201, 256, 56, 229, 137, 215, 258, 196, 238]\n",
      "order 3: [175, 197, 369, 293, 3, 93, 194, 205]\n",
      "order 4: [304, 226, 311, 1, 111, 186]\n",
      "order 5: [75, 296, 181, 165, 399]\n",
      "order 6: [98, 392, 15, 291, 327, 134]\n",
      "order 7: [24, 106, 247, 132, 398, 385, 84]\n",
      "order 8: [22, 370, 268, 39, 102]\n",
      "order 9: [200, 377, 230, 149, 71, 68, 8, 280, 347]\n",
      "batch 0: ['order 2', 'order 4', 'order 8']\n",
      "batch 1: ['order 0', 'order 3', 'order 9']\n",
      "batch 2: ['order 1', 'order 5', 'order 6', 'order 7']\n",
      "Total Distance: 688.0\n"
     ]
    },
    {
     "data": {
      "image/png": "[encoded data removed]",
      "text/plain": [
       "<Figure size 640x480 with 1 Axes>"
      ]
     },
     "metadata": {},
     "output_type": "display_data"
    }
   ],
   "source": [
    "object_num = 400\n",
    "order_num = 10\n",
    "capacity = 80\n",
    "k = 10\n",
    "orders = generate_orders(object_num,order_num)\n",
    "swarm = generate_swarm(order_num,k)\n",
    "batches = decode(swarm[0],orders,capacity)\n",
    "epochs = 500\n",
    "iterations = []\n",
    "best_ind = swarm[0]\n",
    "for ep in range(epochs):\n",
    "    # Crossover\n",
    "    parents = tournament_selection(swarm,orders,capacity,8,2)\n",
    "    offspring = PMX(parents)\n",
    "    swarm.append(offspring)\n",
    "    swarm = sorted(swarm, key = lambda x: fitness(x,orders,capacity))[1:]\n",
    "    #Mutation\n",
    "    if random.random() < 0.1:\n",
    "        idx = random.randint(0,k-1)\n",
    "        mutation(swarm[-1])\n",
    "    if ep>100 and iterations[-1] == iterations[-10]:\n",
    "        mutation(swarm[-1])\n",
    "    # Local Search\n",
    "    if random.random() < 0.3:\n",
    "        idx = random.randint(0,k-1)\n",
    "        swarm[idx] = local_search(swarm[idx],orders,capacity)\n",
    "    #Update best individual\n",
    "    if fitness(swarm[-1],orders,capacity) > fitness(best_ind,orders,capacity):\n",
    "        best_ind = swarm[-1]\n",
    "    iterations.append(distance(best_ind,orders,capacity))\n",
    "#Print batch Plan\n",
    "batch_plan(orders,best_ind,capacity,batches)\n",
    "print('Total Distance:',distance(best_ind,orders,capacity))\n",
    "#Plot the convergence curve\n",
    "plt.plot(iterations)\n",
    "plt.xlabel('Iterations')\n",
    "plt.ylabel('Distance')\n",
    "plt.title('Memetic Algorithm for OBP')\n",
    "plt.show()"
   ]
  },
  {
   "cell_type": "markdown",
   "metadata": {},
   "source": [
    "References:  \n",
    "[1]\t\"[Batching orders in warehouses by minimizing travel distance with genetic algorithms](https://www.sciencedirect.com/science/article/pii/S0166361504000995),\" Computers in Industry, vol. 56, no. 2, 2005/02/01, doi: 10.1016/j.compind.2004.06.001.\n"
   ]
  }
 ],
 "metadata": {
  "kernelspec": {
   "display_name": "Python 3",
   "language": "python",
   "name": "python3"
  },
  "language_info": {
   "codemirror_mode": {
    "name": "ipython",
    "version": 3
   },
   "file_extension": ".py",
   "mimetype": "text/x-python",
   "name": "python",
   "nbconvert_exporter": "python",
   "pygments_lexer": "ipython3",
   "version": "3.12.4"
  }
 },
 "nbformat": 4,
 "nbformat_minor": 2
}
