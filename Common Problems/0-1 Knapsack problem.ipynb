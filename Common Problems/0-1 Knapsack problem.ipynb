{
 "cells": [
  {
   "cell_type": "markdown",
   "metadata": {},
   "source": [
    "## Bottom-up Dynamic Programming Approach"
   ]
  },
  {
   "cell_type": "markdown",
   "metadata": {},
   "source": [
    "$f_{i}(\\omega)$ is the maximum value that can be accumulated using first $i$ items, subject to weight $\\omega$ , $\\omega_{i+1}$ is the weight of the $i+1$ item \\\n",
    "So the recursion would be: \\\n",
    "$ f_{i+1}(\\omega) = \\max \\left \\{f_{i}(\\omega), f_{i+1}(\\omega-\\omega_{i+1}) \\right \\} $"
   ]
  },
  {
   "cell_type": "code",
   "execution_count": 45,
   "metadata": {},
   "outputs": [],
   "source": [
    "def Bottom_up_dynamic_programming(profits,weights,W):\n",
    "    #一共有n个物品，背包容量为W\n",
    "    n = len(weights)\n",
    "    #生成一个n+1 x W的二维数组，f[i][j]表示前i个物品放入容量为j的背包中的最大价值\n",
    "    f = [[0 for i in range(W+1)] for j in range(n+1)]\n",
    "    #遍历1到n+1共n个物品\n",
    "    for i in range(1,n+1):\n",
    "        #遍历从1到W个容量\n",
    "        for j in range(1,W+1):\n",
    "            #如果正在遍历的物品重量大于当前背包容量，则无法放入背包\n",
    "            if weights[i-1] > j:\n",
    "                f[i][j] = f[i-1][j]\n",
    "            #如果可以放入背包，比较和放入和不放入的价值\n",
    "            else:\n",
    "                f[i][j] = max(f[i-1][j],f[i-1][j-weights[i-1]]+profits[i-1])\n",
    "    return f[n][W]\n",
    "# Time complexity would be N*W, where N is the number of items and W is the capacity of the knapsack, it's pesudo-polynominal."
   ]
  },
  {
   "cell_type": "code",
   "execution_count": 42,
   "metadata": {},
   "outputs": [],
   "source": [
    "#另一种实现方式\n",
    "def Bottom_up_dynamic_programming(profits,weights,W):\n",
    "    n = len(weights)\n",
    "    f = [0 for i in range(W+1)]\n",
    "    for i in range(1,n+1):\n",
    "        #为了防止上一层遍历的结果被覆盖，需要从后往前遍历\n",
    "        for j in range(W,0,-1):\n",
    "            if weights[i-1] <= j:\n",
    "                f[j] = max(f[j],f[j-weights[i-1]]+profits[i-1])\n",
    "    return f[W]\n",
    "# Time complexity would be N*W, where N is the number of items and W is the capacity of the knapsack, it's pesudo-polynominal."
   ]
  },
  {
   "cell_type": "code",
   "execution_count": 46,
   "metadata": {},
   "outputs": [
    {
     "name": "stdout",
     "output_type": "stream",
     "text": [
      "Optimal profit: 80\n"
     ]
    },
    {
     "data": {
      "text/plain": [
       "80"
      ]
     },
     "execution_count": 46,
     "metadata": {},
     "output_type": "execute_result"
    }
   ],
   "source": [
    "def test_dynamic_programming(approach):\n",
    "    capacity = 50\n",
    "    weights = [3, 7, 2, 5, 9, 4, 8, 6, 1, 3, 6, 7, 4, 2, 5, 8, 9, 2, 3, 7, 4, 5, 1, 6, 3]\n",
    "    profits = [4, 8, 3, 6, 10, 7, 9, 5, 2, 1, 8, 3, 6, 5, 7, 6, 4, 5, 8, 2, 6, 7, 3, 4, 2]\n",
    "    result = approach(profits,weights,capacity)\n",
    "    print('Optimal profit:',result)\n",
    "\n",
    "    return result\n",
    "test_dynamic_programming(Bottom_up_dynamic_programming)"
   ]
  },
  {
   "cell_type": "markdown",
   "metadata": {},
   "source": [
    "## Genetic Algorithm Approach"
   ]
  },
  {
   "cell_type": "code",
   "execution_count": 11,
   "metadata": {},
   "outputs": [],
   "source": [
    "import random\n",
    "import matplotlib.pyplot as plt"
   ]
  },
  {
   "cell_type": "markdown",
   "metadata": {},
   "source": [
    "### Poblem Description"
   ]
  },
  {
   "cell_type": "code",
   "execution_count": 12,
   "metadata": {},
   "outputs": [],
   "source": [
    "\"\"\" \n",
    "Define item class, an item has a name, weight and profit.\n",
    "\"\"\"\n",
    "class item():\n",
    "    def __init__(self,name,weight,profit):\n",
    "        self.name = name\n",
    "        self.profit = profit\n",
    "        self.weight = weight\n",
    "'''\n",
    "Initialize the problem\n",
    "'''\n",
    "names = [\"Item 1\", \"Item 2\", \"Item 3\", \"Item 4\", \"Item 5\", \"Item 6\", \"Item 7\", \"Item 8\", \"Item 9\", \"Item 10\", \n",
    "    \"Item 11\", \"Item 12\", \"Item 13\", \"Item 14\", \"Item 15\", \"Item 16\", \"Item 17\", \"Item 18\", \"Item 19\", \"Item 20\", \n",
    "    \"Item 21\", \"Item 22\", \"Item 23\", \"Item 24\", \"Item 25\"\n",
    "]\n",
    "weights = [3, 7, 2, 5, 9, 4, 8, 6, 1, 3, 6, 7, 4, 2, 5, 8, 9, 2, 3, 7, 4, 5, 1, 6, 3]\n",
    "profits = [4, 8, 3, 6, 10, 7, 9, 5, 2, 1, 8, 3, 6, 5, 7, 6, 4, 5, 8, 2, 6, 7, 3, 4, 2]\n",
    "items = [item(name, weight, profit) for name, weight, profit in zip(names, weights, profits)]"
   ]
  },
  {
   "cell_type": "code",
   "execution_count": 13,
   "metadata": {},
   "outputs": [],
   "source": [
    "\"\"\" Test Function \"\"\"\n",
    "def test_genetic_algorithm(items):\n",
    "    assert Genetic_algorithm(items) == test_dynamic_programming(Bottom_up_dynamic_programming)\n",
    "    print('Test passed')\n",
    "\n",
    "\"\"\" Our goal \"\"\"\n",
    "def Genetic_algorithm() -> tuple[list, float]:\n",
    "    # To be implemented\n",
    "    # Should return the final profits and which items to take\n",
    "    return Strategy,profits"
   ]
  },
  {
   "cell_type": "markdown",
   "metadata": {},
   "source": [
    "### Genetic Algorithm implementation"
   ]
  },
  {
   "cell_type": "code",
   "execution_count": 15,
   "metadata": {},
   "outputs": [],
   "source": [
    "def Genetic_algorithm(items, W, population_size, selection_rate, crossover_rate, mutation_rate, generations):\n",
    "    \"\"\"\n",
    "    Define Individual class \n",
    "    \"\"\"\n",
    "    class Individual():\n",
    "        def __init__(self,genes: list):\n",
    "            self.genes = genes\n",
    "        #Fitntess function\n",
    "        def fitness(self):\n",
    "            total_weight = 0\n",
    "            total_profit = 0\n",
    "            total_weight += sum([gene*item.weight for gene,item in zip(self.genes,items)])\n",
    "            total_profit += sum([gene*item.profit for gene,item in zip(self.genes,items)])\n",
    "        #total_weight should be less than W, otherwise remove the item with the lowest profit to weight ratio till total_weight <= W\n",
    "            sorted_items = sorted(enumerate(items),key=lambda x:x[1].profit/x[1].weight)\n",
    "            i = 0\n",
    "            while total_weight > W:\n",
    "                num = sorted_items[i][0]\n",
    "                if self.genes[num] == 1:\n",
    "                    self.genes[num] = 0\n",
    "                    total_weight -= sorted_items[i][1].weight\n",
    "                    total_profit -= sorted_items[i][1].profit\n",
    "                i += 1   \n",
    "            return total_profit       \n",
    "            \"\"\"  \n",
    "           Below is another approach:\n",
    "           while total_weight > W:\n",
    "                for i in range(len(genes)-1):\n",
    "                    if genes[i] == 1:\n",
    "                        min_profit_density = 1e9\n",
    "                        current_profit_density = items[i].profit/items[i].weight\n",
    "                        if current_profit_density < min_profit_density:\n",
    "                            min_profit_density = current_profit_density\n",
    "                            genes[i] = 0\n",
    "                            total_weight -= items[i].weight\n",
    "                            total_profit -= items[i].profit \n",
    "            return total_profit\n",
    "            \"\"\"\n",
    "\n",
    "    \"\"\" \n",
    "    Initialize population \n",
    "    \"\"\"\n",
    "    \n",
    "    def generate_initial_population(population_size) -> list:\n",
    "        #use datatype set to avoid identical individuals\n",
    "        population = set()\n",
    "\n",
    "        # generate initial population having `count` individuals\n",
    "        while len(population) != population_size:\n",
    "            # pick random bits one for each item and \n",
    "            # create an individual \n",
    "            genes = random.choices([0,1],k=len(items))\n",
    "            I = Individual(genes)\n",
    "            I.fitness()\n",
    "            population.add(I)\n",
    "\n",
    "        return list(population)\n",
    "\n",
    "    \"\"\" Selection \"\"\"\n",
    "    def selection(population: list) -> list:\n",
    "        #Chose part of the population to be candidate parents\n",
    "        '''chosen_rate = radom.uniform(0.4,0.6)\n",
    "        chosen_population = random.sample(population,round(chosen_rate*len(population)))'''\n",
    "        #Select two parents from candidates\n",
    "        select_probs = [ i.fitness()/sum([i.fitness() for i in population]) for i in population]\n",
    "        parents = random.choices(population,weights=select_probs,k=2)\n",
    "        return parents\n",
    "\n",
    "    \"\"\" Crossover \"\"\"\n",
    "    def crossover(parents: list) -> list:\n",
    "        crossover_point = random.randint(1,len(items)-1)\n",
    "        #create two children with all genes set to 0\n",
    "        child1,child2 = Individual([0]*len(items)),Individual([0]*len(items))\n",
    "        child1.genes = parents[0].genes[:crossover_point] + parents[1].genes[crossover_point:]\n",
    "        child2.genes = parents[1].genes[:crossover_point] + parents[0].genes[crossover_point:]\n",
    "        childs = [child1,child2]\n",
    "        return childs\n",
    "\n",
    "    \"\"\" Mutation \"\"\"\n",
    "    def mutation(population: list) -> list:\n",
    "        Individual = random.choice(population)\n",
    "        mutation_point = random.randint(0,len(items)-1)\n",
    "        Individual.genes[mutation_point] = 1 - Individual.genes[mutation_point]\n",
    "        return population\n",
    "\n",
    "    \"\"\" Reproduction(复制) \"\"\"\n",
    "    #Select the best individuals to be directly in the next generation\n",
    "    def reproduction(population: list,reproduction_size) -> list:\n",
    "        population = sorted(population,key=lambda x:x.fitness(),reverse=True)\n",
    "        reproducted_population = population[:reproduction_size]\n",
    "        return reproducted_population\n",
    "\n",
    "    \"\"\" next_generation \"\"\"\n",
    "    def next_generation(population: list) -> list:\n",
    "        next_gen = []#list of next generation\n",
    "        #Only choose even number of children, because crossoverfunction return 2 children each time.\n",
    "        children_size = int(selection_rate*population_size)\n",
    "        if children_size % 2 == 1:\n",
    "            children_size += 1\n",
    "        reproduction_size = population_size - children_size\n",
    "        #Select population*selection_rate candidate parents.\n",
    "        candidate_parents = random.choices(population,k=children_size)\n",
    "\n",
    "        children = []#list of children\n",
    "        #Next generation that are generated by crossover and mutation\n",
    "        while len(children) != children_size:\n",
    "            parents = selection(candidate_parents)\n",
    "            if random.random() < crossover_rate:    #crossover\n",
    "                childs = crossover(parents)\n",
    "                if random.random() < mutation_rate:# or mutation\n",
    "                    childs = mutation(childs)\n",
    "                children.extend(childs)\n",
    "        #Next generation that are generated by reproduction\n",
    "        reproducted = reproduction(population, reproduction_size)#list of reproducted individuals\n",
    "\n",
    "        next_gen = children + reproducted\n",
    "        #In case that the next generation contains individuals that violate the weight constraint\n",
    "        for i in next_gen:\n",
    "            i.fitness()\n",
    "        return next_gen\n",
    "\n",
    "    def plot_fitness(results: list):\n",
    "        plt.plot(results)\n",
    "        plt.xlabel('Generations')\n",
    "        plt.ylabel('Fitness')\n",
    "        plt.show()\n",
    "\n",
    "    def print_strategy(Individual):\n",
    "        result = []\n",
    "        for i in range(len(items)):\n",
    "            if Individual.genes[i] == 1:\n",
    "                result.append(items[i].name)\n",
    "        profit = Individual.fitness()\n",
    "        print(\"Strategy:\",','.join(map(str, result)))\n",
    "        print(\"Total profit:\",profit)\n",
    "        return result\n",
    "\n",
    "    \"\"\" Algorithm Excution \"\"\"\n",
    "    def solver():\n",
    "        population = generate_initial_population(population_size)\n",
    "        results = []\n",
    "        Indi = Individual([0]*len(items))\n",
    "        for i in range(generations):\n",
    "            population = next_generation(population)\n",
    "            I = max(population,key=lambda x: x.fitness())\n",
    "            profit = I.fitness()\n",
    "\n",
    "        #To avoid staying in local optimal for too long, the individual mutate every 10 generations.\n",
    "            if len(results) % 10 == 0:\n",
    "                mutation_point = random.randint(0,len(items)-1)\n",
    "                I.genes[mutation_point] = 1\n",
    "                I.fitness()\n",
    "            Indi = I\n",
    "            results.append(profit)\n",
    "        plot_fitness(results)\n",
    "        Strategy = print_strategy(Indi)\n",
    "        \n",
    "        return Strategy,profit\n",
    "\n",
    "    Strategy,profit = solver()\n",
    "\n",
    "    return Strategy, profit"
   ]
  },
  {
   "cell_type": "code",
   "execution_count": 16,
   "metadata": {},
   "outputs": [
    {
     "data": {
      "image/png": "[encoded data removed]",
      "text/plain": [
       "<Figure size 640x480 with 1 Axes>"
      ]
     },
     "metadata": {},
     "output_type": "display_data"
    },
    {
     "name": "stdout",
     "output_type": "stream",
     "text": [
      "Strategy: Item 2,Item 3,Item 4,Item 6,Item 11,Item 13,Item 14,Item 15,Item 18,Item 19,Item 21,Item 22,Item 23\n",
      "Total profit: 79\n"
     ]
    }
   ],
   "source": [
    "Strategy,profit = Genetic_algorithm(items, 50, 50, 0.9, 0.9, 0.001, 100)"
   ]
  },
  {
   "cell_type": "markdown",
   "metadata": {},
   "source": [
    "## Gurobi Approach"
   ]
  },
  {
   "cell_type": "code",
   "execution_count": 2,
   "metadata": {},
   "outputs": [],
   "source": [
    "from gurobipy import *"
   ]
  },
  {
   "cell_type": "code",
   "execution_count": 6,
   "metadata": {},
   "outputs": [],
   "source": [
    "names = [\"Item 1\", \"Item 2\", \"Item 3\", \"Item 4\", \"Item 5\", \"Item 6\", \"Item 7\", \"Item 8\", \"Item 9\", \"Item 10\", \n",
    "    \"Item 11\", \"Item 12\", \"Item 13\", \"Item 14\", \"Item 15\", \"Item 16\", \"Item 17\", \"Item 18\", \"Item 19\", \"Item 20\", \n",
    "    \"Item 21\", \"Item 22\", \"Item 23\", \"Item 24\", \"Item 25\"\n",
    "]\n",
    "weights = [3, 7, 2, 5, 9, 4, 8, 6, 1, 3, 6, 7, 4, 2, 5, 8, 9, 2, 3, 7, 4, 5, 1, 6, 3]\n",
    "profits = [4, 8, 3, 6, 10, 7, 9, 5, 2, 1, 8, 3, 6, 5, 7, 6, 4, 5, 8, 2, 6, 7, 3, 4, 2]\n",
    "W = 50\n",
    "n =len(weights)"
   ]
  },
  {
   "cell_type": "markdown",
   "metadata": {},
   "source": [
    "#### Building model"
   ]
  },
  {
   "cell_type": "code",
   "execution_count": 9,
   "metadata": {},
   "outputs": [
    {
     "data": {
      "text/plain": [
       "<gurobi.Constr *Awaiting Model Update*>"
      ]
     },
     "execution_count": 9,
     "metadata": {},
     "output_type": "execute_result"
    }
   ],
   "source": [
    "knapsack = Model(\"knapsack\")\n",
    "x = knapsack.addVars(n,vtype=GRB.BINARY,name='x')\n",
    "obj = sum([x[i]*profits[i] for i in range(n)])\n",
    "knapsack.setObjective(obj,GRB.MAXIMIZE)\n",
    "knapsack.addConstr(sum(x[i]*weights[i] for i in range(n)) <= W)"
   ]
  },
  {
   "cell_type": "code",
   "execution_count": 10,
   "metadata": {},
   "outputs": [
    {
     "name": "stdout",
     "output_type": "stream",
     "text": [
      "Gurobi Optimizer version 11.0.1 build v11.0.1rc0 (win64 - Windows 10.0 (19045.2))\n",
      "\n",
      "CPU model: Intel(R) Core(TM) i5-8300H CPU @ 2.30GHz, instruction set [SSE2|AVX|AVX2]\n",
      "Thread count: 4 physical cores, 8 logical processors, using up to 8 threads\n",
      "\n",
      "Optimize a model with 1 rows, 25 columns and 25 nonzeros\n",
      "Model fingerprint: 0xbc3ddb97\n",
      "Variable types: 0 continuous, 25 integer (25 binary)\n",
      "Coefficient statistics:\n",
      "  Matrix range     [1e+00, 9e+00]\n",
      "  Objective range  [1e+00, 1e+01]\n",
      "  Bounds range     [1e+00, 1e+00]\n",
      "  RHS range        [5e+01, 5e+01]\n",
      "Found heuristic solution: objective 60.0000000\n",
      "Presolve removed 1 rows and 25 columns\n",
      "Presolve time: 0.00s\n",
      "Presolve: All rows and columns removed\n",
      "\n",
      "Explored 0 nodes (0 simplex iterations) in 0.01 seconds (0.00 work units)\n",
      "Thread count was 1 (of 8 available processors)\n",
      "\n",
      "Solution count 2: 80 60 \n",
      "\n",
      "Optimal solution found (tolerance 1.00e-04)\n",
      "Best objective 8.000000000000e+01, best bound 8.000000000000e+01, gap 0.0000%\n",
      "x[0]\n",
      "x[2]\n",
      "x[5]\n",
      "x[6]\n",
      "x[8]\n",
      "x[10]\n",
      "x[12]\n",
      "x[13]\n",
      "x[14]\n",
      "x[17]\n",
      "x[18]\n",
      "x[20]\n",
      "x[21]\n",
      "x[22]\n"
     ]
    }
   ],
   "source": [
    "knapsack.optimize()\n",
    "for i in knapsack.getVars():\n",
    "    if i.x == 1:\n",
    "        print(i.varName)"
   ]
  }
 ],
 "metadata": {
  "kernelspec": {
   "display_name": "base",
   "language": "python",
   "name": "python3"
  },
  "language_info": {
   "codemirror_mode": {
    "name": "ipython",
    "version": 3
   },
   "file_extension": ".py",
   "mimetype": "text/x-python",
   "name": "python",
   "nbconvert_exporter": "python",
   "pygments_lexer": "ipython3",
   "version": "3.11.5"
  }
 },
 "nbformat": 4,
 "nbformat_minor": 2
}
